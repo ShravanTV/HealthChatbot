{
 "cells": [
  {
   "cell_type": "code",
   "execution_count": null,
   "id": "ad02d862",
   "metadata": {},
   "outputs": [],
   "source": [
    "from langchain_ollama import OllamaEmbeddings\n",
    "from langchain_community.vectorstores import FAISS\n",
    "from langchain.docstore.document import Document\n",
    "from langchain.document_loaders import PyPDFLoader\n",
    "import os\n",
    "from langchain.text_splitter import RecursiveCharacterTextSplitter\n",
    "import tiktoken\n",
    "import pandas as pd\n",
    "# from langchain_community.embeddings import OllamaEmbeddings\n"
   ]
  },
  {
   "cell_type": "code",
   "execution_count": 3,
   "id": "cc60f018",
   "metadata": {},
   "outputs": [],
   "source": [
    "# Step 1: Load PDF and split into chunks\n",
    "pdf_path = \"Health_and_Disease_A_Lifespan_Approach.pdf\"  # replace with your PDF file\n",
    "loader = PyPDFLoader(pdf_path)\n",
    "pages = loader.load()"
   ]
  },
  {
   "cell_type": "code",
   "execution_count": null,
   "id": "712ac089",
   "metadata": {},
   "outputs": [],
   "source": [
    "# Step 2: Token counting with tiktoken\n",
    "# Use a model encoding — gpt-3.5-turbo is a good default\n",
    "# Gives an idea of how many tokens each page will use\n",
    "encoding = tiktoken.encoding_for_model(\"gpt-3.5-turbo\")\n",
    "\n",
    "token_counts = []\n",
    "for i, page in enumerate(pages, start=1):\n",
    "    tokens = encoding.encode(page.page_content)\n",
    "    token_counts.append((f\"Page{i}\", len(tokens)))\n",
    "\n",
    "pd.DataFrame(token_counts, columns=[\"Page\", \"TokenCount\"]).to_csv(\"page_token_counts.csv\", index=False)\n"
   ]
  },
  {
   "cell_type": "code",
   "execution_count": 4,
   "id": "3de6c47d",
   "metadata": {},
   "outputs": [],
   "source": [
    "# Step 3: Split pages into chunks for embedding\n",
    "splitter = RecursiveCharacterTextSplitter(chunk_size=800, chunk_overlap=20 )\n",
    "docs = splitter.split_documents(pages)\n",
    "\n"
   ]
  },
  {
   "cell_type": "code",
   "execution_count": null,
   "metadata": {},
   "outputs": [],
   "source": [
    "# Create embeddings\n",
    "embedding = OllamaEmbeddings(model=\"nomic-embed-text\")\n"
   ]
  },
  {
   "cell_type": "code",
   "execution_count": 8,
   "id": "6298da32",
   "metadata": {},
   "outputs": [],
   "source": [
    "# embedding.embed_documents([doc.page_content for doc in a])"
   ]
  },
  {
   "cell_type": "code",
   "execution_count": null,
   "id": "84d69756",
   "metadata": {},
   "outputs": [],
   "source": [
    "# Add a single doc to FAISS and store the index\n",
    "# And store the index to local storage, which can be reused later\n",
    "db = FAISS.from_documents(docs, embedding)\n",
    "db.save_local(\"faiss_index_pdf\") \n"
   ]
  },
  {
   "cell_type": "code",
   "execution_count": null,
   "metadata": {},
   "outputs": [],
   "source": [
    "# Load the FAISS index and get a retriever\n",
    "db_loaded = FAISS.load_local(\"faiss_index_pdf\", embedding, allow_dangerous_deserialization=True)\n",
    "\n"
   ]
  },
  {
   "cell_type": "code",
   "execution_count": null,
   "id": "14113516",
   "metadata": {},
   "outputs": [],
   "source": [
    "# Data can be retrieved in 2 ways:\n",
    "# 1. Using the default retriever\n",
    "\n",
    "#retriever = db_loaded.as_retriever() # By default top 4 docs are retrieved\n",
    "\n",
    "retriever = db_loaded.as_retriever(search_type=\"similarity_score_threshold\", \n",
    "                                 search_kwargs={\"score_threshold\": .1, \n",
    "                                                \"k\": 2})\n"
   ]
  },
  {
   "cell_type": "code",
   "execution_count": null,
   "id": "382d0261",
   "metadata": {},
   "outputs": [
    {
     "data": {
      "text/plain": [
       "[Document(id='ed3742a5-f6b4-4be0-8176-995137ab0791', metadata={'producer': 'PDFium', 'creator': 'PDFium', 'creationdate': 'D:20250711133424', 'source': 'Health_and_Disease_A_Lifespan_Approach.pdf', 'total_pages': 567, 'page': 187, 'page_label': '188'}, page_content='3\\n)\\tis\\ta\\tmarker\\tof\\trelative\\tthinness\\t(low\\tponderal\\nindex)\\tor\\tfatness\\t(high\\tponderal\\tindex)\\tat\\tbirth.\\tPonderal\\tindex\\tat\\tbirth\\twas\\talso\\ta\\tsignificant\\npredictor\\tof\\tblood\\tpressure.\\tThis\\tdata\\ttherefore\\tshowed\\tthat\\tbabies\\twho\\twere\\tborn\\tsmall\\tand\\nthin\\twere\\tat\\tgreater\\trisk\\tof\\tdisease\\tin\\tlater\\tlife.\\tThe\\tUS\\tNurses\\tHealth\\tStudy\\tcollected\\tdata\\ton'),\n",
       " Document(id='43cd152f-204f-46d8-b40e-ed3a21a866b2', metadata={'producer': 'PDFium', 'creator': 'PDFium', 'creationdate': 'D:20250711133424', 'source': 'Health_and_Disease_A_Lifespan_Approach.pdf', 'total_pages': 567, 'page': 114, 'page_label': '115'}, page_content='maintain\\tand\\tsupport\\tthe\\tpregnancy,\\tprevent\\timmunological\\trejection\\tof\\tthe\\tfoetus\\tand\\tensure\\nthat\\tmaternal\\thomeostasis\\tis\\tmaintained.\\nHuman\\tgestation\\tlasts\\tfor\\t40\\tweeks,\\ttimed\\tfrom\\tthe\\tlast\\tmenstrual\\tperiod\\tof\\tthe\\tmother.\\tBirth\\nin\\tfact\\toccurs\\t38\\tweeks\\tpost-conception.\\tThe\\t40\\tweeks\\tof\\tgestation\\tare\\tdivided\\tinto\\tthree\\ntrimesters,\\twhich\\tcorrespond\\tto\\tthe\\tmain\\tphases\\tof\\tembryonic\\tand\\tfoetal\\tdevelopment.\\tThe\\nfirst\\ttrimester\\t(conception\\tto\\t12\\tweeks)\\tis\\tthe\\tperiod\\tof\\tmaximum\\tvulnerability\\tfor\\tthe\\tembryo,\\nas\\tat\\tthis\\tstage\\tit\\thas\\tto\\timplant\\tinto\\tthe\\tuterine\\tlining,\\testablish\\tthe\\tsupporting\\tplacenta\\tand\\nundergo\\tdevelopment\\tfrom\\ta\\tcluster\\tof\\tcells\\tto\\tan\\tindividual\\tof\\tapproximate\\thuman\\nmorphology\\twith\\ta\\tvascular\\tsystem\\tand\\ta\\tnumber\\tof\\tfunctional\\torgans.\\tThe\\tfirst\\ttrimester\\tis\\tthe')]"
      ]
     },
     "execution_count": 29,
     "metadata": {},
     "output_type": "execute_result"
    }
   ],
   "source": [
    "# Example: fetch relevant docs for a query\n",
    "query = \"How are you?\"\n",
    "results = retriever.get_relevant_documents(query)\n",
    "results"
   ]
  },
  {
   "cell_type": "code",
   "execution_count": 33,
   "id": "c6aacf0c",
   "metadata": {},
   "outputs": [
    {
     "data": {
      "text/plain": [
       "[Document(id='ed3742a5-f6b4-4be0-8176-995137ab0791', metadata={'producer': 'PDFium', 'creator': 'PDFium', 'creationdate': 'D:20250711133424', 'source': 'Health_and_Disease_A_Lifespan_Approach.pdf', 'total_pages': 567, 'page': 187, 'page_label': '188'}, page_content='3\\n)\\tis\\ta\\tmarker\\tof\\trelative\\tthinness\\t(low\\tponderal\\nindex)\\tor\\tfatness\\t(high\\tponderal\\tindex)\\tat\\tbirth.\\tPonderal\\tindex\\tat\\tbirth\\twas\\talso\\ta\\tsignificant\\npredictor\\tof\\tblood\\tpressure.\\tThis\\tdata\\ttherefore\\tshowed\\tthat\\tbabies\\twho\\twere\\tborn\\tsmall\\tand\\nthin\\twere\\tat\\tgreater\\trisk\\tof\\tdisease\\tin\\tlater\\tlife.\\tThe\\tUS\\tNurses\\tHealth\\tStudy\\tcollected\\tdata\\ton'),\n",
       " Document(id='43cd152f-204f-46d8-b40e-ed3a21a866b2', metadata={'producer': 'PDFium', 'creator': 'PDFium', 'creationdate': 'D:20250711133424', 'source': 'Health_and_Disease_A_Lifespan_Approach.pdf', 'total_pages': 567, 'page': 114, 'page_label': '115'}, page_content='maintain\\tand\\tsupport\\tthe\\tpregnancy,\\tprevent\\timmunological\\trejection\\tof\\tthe\\tfoetus\\tand\\tensure\\nthat\\tmaternal\\thomeostasis\\tis\\tmaintained.\\nHuman\\tgestation\\tlasts\\tfor\\t40\\tweeks,\\ttimed\\tfrom\\tthe\\tlast\\tmenstrual\\tperiod\\tof\\tthe\\tmother.\\tBirth\\nin\\tfact\\toccurs\\t38\\tweeks\\tpost-conception.\\tThe\\t40\\tweeks\\tof\\tgestation\\tare\\tdivided\\tinto\\tthree\\ntrimesters,\\twhich\\tcorrespond\\tto\\tthe\\tmain\\tphases\\tof\\tembryonic\\tand\\tfoetal\\tdevelopment.\\tThe\\nfirst\\ttrimester\\t(conception\\tto\\t12\\tweeks)\\tis\\tthe\\tperiod\\tof\\tmaximum\\tvulnerability\\tfor\\tthe\\tembryo,\\nas\\tat\\tthis\\tstage\\tit\\thas\\tto\\timplant\\tinto\\tthe\\tuterine\\tlining,\\testablish\\tthe\\tsupporting\\tplacenta\\tand\\nundergo\\tdevelopment\\tfrom\\ta\\tcluster\\tof\\tcells\\tto\\tan\\tindividual\\tof\\tapproximate\\thuman\\nmorphology\\twith\\ta\\tvascular\\tsystem\\tand\\ta\\tnumber\\tof\\tfunctional\\torgans.\\tThe\\tfirst\\ttrimester\\tis\\tthe')]"
      ]
     },
     "execution_count": 33,
     "metadata": {},
     "output_type": "execute_result"
    }
   ],
   "source": [
    "\n",
    "query = \"How are you?\"\n",
    "retriever.invoke(query,kwargs={\"k\": 4})\n"
   ]
  },
  {
   "cell_type": "code",
   "execution_count": null,
   "id": "c11c64fd",
   "metadata": {},
   "outputs": [
    {
     "data": {
      "text/plain": [
       "[(Document(id='ed3742a5-f6b4-4be0-8176-995137ab0791', metadata={'producer': 'PDFium', 'creator': 'PDFium', 'creationdate': 'D:20250711133424', 'source': 'Health_and_Disease_A_Lifespan_Approach.pdf', 'total_pages': 567, 'page': 187, 'page_label': '188'}, page_content='3\\n)\\tis\\ta\\tmarker\\tof\\trelative\\tthinness\\t(low\\tponderal\\nindex)\\tor\\tfatness\\t(high\\tponderal\\tindex)\\tat\\tbirth.\\tPonderal\\tindex\\tat\\tbirth\\twas\\talso\\ta\\tsignificant\\npredictor\\tof\\tblood\\tpressure.\\tThis\\tdata\\ttherefore\\tshowed\\tthat\\tbabies\\twho\\twere\\tborn\\tsmall\\tand\\nthin\\twere\\tat\\tgreater\\trisk\\tof\\tdisease\\tin\\tlater\\tlife.\\tThe\\tUS\\tNurses\\tHealth\\tStudy\\tcollected\\tdata\\ton'),\n",
       "  np.float32(1.0390892)),\n",
       " (Document(id='43cd152f-204f-46d8-b40e-ed3a21a866b2', metadata={'producer': 'PDFium', 'creator': 'PDFium', 'creationdate': 'D:20250711133424', 'source': 'Health_and_Disease_A_Lifespan_Approach.pdf', 'total_pages': 567, 'page': 114, 'page_label': '115'}, page_content='maintain\\tand\\tsupport\\tthe\\tpregnancy,\\tprevent\\timmunological\\trejection\\tof\\tthe\\tfoetus\\tand\\tensure\\nthat\\tmaternal\\thomeostasis\\tis\\tmaintained.\\nHuman\\tgestation\\tlasts\\tfor\\t40\\tweeks,\\ttimed\\tfrom\\tthe\\tlast\\tmenstrual\\tperiod\\tof\\tthe\\tmother.\\tBirth\\nin\\tfact\\toccurs\\t38\\tweeks\\tpost-conception.\\tThe\\t40\\tweeks\\tof\\tgestation\\tare\\tdivided\\tinto\\tthree\\ntrimesters,\\twhich\\tcorrespond\\tto\\tthe\\tmain\\tphases\\tof\\tembryonic\\tand\\tfoetal\\tdevelopment.\\tThe\\nfirst\\ttrimester\\t(conception\\tto\\t12\\tweeks)\\tis\\tthe\\tperiod\\tof\\tmaximum\\tvulnerability\\tfor\\tthe\\tembryo,\\nas\\tat\\tthis\\tstage\\tit\\thas\\tto\\timplant\\tinto\\tthe\\tuterine\\tlining,\\testablish\\tthe\\tsupporting\\tplacenta\\tand\\nundergo\\tdevelopment\\tfrom\\ta\\tcluster\\tof\\tcells\\tto\\tan\\tindividual\\tof\\tapproximate\\thuman\\nmorphology\\twith\\ta\\tvascular\\tsystem\\tand\\ta\\tnumber\\tof\\tfunctional\\torgans.\\tThe\\tfirst\\ttrimester\\tis\\tthe'),\n",
       "  np.float32(1.0792676))]"
      ]
     },
     "execution_count": 21,
     "metadata": {},
     "output_type": "execute_result"
    }
   ],
   "source": [
    "# 2. Using similarity search with scores (often using cosine similarity or L2 distance)\n",
    "# This returns the top k documents with their similarity scores\n",
    "# Simple and fast.\n",
    "# Good for direct similarity-based retrieval.\n",
    "\n",
    "query = \"How are you?\"\n",
    "a = db_loaded.similarity_search_with_score(query,k=2)\n",
    "a"
   ]
  }
 ],
 "metadata": {
  "kernelspec": {
   "display_name": "Python 3",
   "language": "python",
   "name": "python3"
  },
  "language_info": {
   "codemirror_mode": {
    "name": "ipython",
    "version": 3
   },
   "file_extension": ".py",
   "mimetype": "text/x-python",
   "name": "python",
   "nbconvert_exporter": "python",
   "pygments_lexer": "ipython3",
   "version": "3.10.0"
  }
 },
 "nbformat": 4,
 "nbformat_minor": 5
}
